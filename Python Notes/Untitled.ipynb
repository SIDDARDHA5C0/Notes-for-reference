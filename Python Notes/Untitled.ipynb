{
 "cells": [
  {
   "cell_type": "markdown",
   "id": "f360bf93",
   "metadata": {},
   "source": [
    "# Python\n",
    "\n",
    "## List of index\n",
    "\n",
    "### Type Annotation(python>3.1) and Type Hinting (python<3.5)"
   ]
  },
  {
   "cell_type": "markdown",
   "id": "c3a9a51f",
   "metadata": {},
   "source": [
    "#### 1.Type hint for standard python objects"
   ]
  },
  {
   "cell_type": "code",
   "execution_count": 1,
   "id": "a02c7f46",
   "metadata": {},
   "outputs": [],
   "source": [
    "#syntax\n",
    "# varialbe: type = value\n",
    "emp_name:str=\"alice\"\n",
    "emp_id: int =20\n",
    "emp_tuple: tuple=()\n",
    "emp_list: list =[]\n",
    "emp_dict: dict ={}"
   ]
  },
  {
   "cell_type": "code",
   "execution_count": 2,
   "id": "9370e91b",
   "metadata": {},
   "outputs": [],
   "source": [
    "from typing import List,Tuple,Dict\n",
    "# syntax\n",
    "# variable: type[primitive type] = value\n",
    "emp_tuple1: Tuple[int]=(10,20)\n",
    "emp_list1 : List[str]=['a','b']\n",
    "emp_dict: Dict[int,str]={1:\"a\",2:'b'}"
   ]
  },
  {
   "cell_type": "markdown",
   "id": "bc99b283",
   "metadata": {},
   "source": [
    "#### 2.Multiple type hinting\n",
    " if the variable is expected to have 2 or more data types. use Union[] or | symbol."
   ]
  },
  {
   "cell_type": "code",
   "execution_count": 3,
   "id": "dc09bdbd",
   "metadata": {},
   "outputs": [],
   "source": [
    "from typing import Union\n",
    "# syntax\n",
    "# variable: Union[type1,type2,...]=value\n",
    "# varialbe: type1|type2|.... =value\n",
    "id: Union[int,str]=\"20bq1a05c0\"\n",
    "id1: int|str=\"20\""
   ]
  },
  {
   "cell_type": "markdown",
   "id": "8cd859c2",
   "metadata": {},
   "source": [
    "####  3. None Type Hinting\n",
    "we use Optional[], if we expect a variable may be None"
   ]
  },
  {
   "cell_type": "code",
   "execution_count": 4,
   "id": "dc6a738a",
   "metadata": {},
   "outputs": [],
   "source": [
    "from typing import Optional\n",
    "#Syntax\n",
    "# variable: Optional[type1,..]=value\n",
    "data: Optional[int]=None # can be None or int"
   ]
  },
  {
   "cell_type": "markdown",
   "id": "c893ec3a",
   "metadata": {},
   "source": [
    "####  4. Iterable Type Hinting\n",
    "we use Iterable, if we expect variable might be iterable."
   ]
  },
  {
   "cell_type": "code",
   "execution_count": 5,
   "id": "aa2af831",
   "metadata": {},
   "outputs": [
    {
     "data": {
      "text/plain": [
       "30"
      ]
     },
     "execution_count": 5,
     "metadata": {},
     "output_type": "execute_result"
    }
   ],
   "source": [
    "from typing import Iterable\n",
    "#Syntax\n",
    "# variable: Iterable[type]=value\n",
    "# variable: Iterable\n",
    "def summer(arr:Iterable[int]):\n",
    "    return sum(arr)\n",
    "arr:Iterable=[10,20]\n",
    "summer(arr)"
   ]
  },
  {
   "cell_type": "markdown",
   "id": "0a857f3c",
   "metadata": {},
   "source": [
    "#### 5. Constan Type Hinting\n",
    "use Final, if variable value is constant"
   ]
  },
  {
   "cell_type": "code",
   "execution_count": 6,
   "id": "d977dff4",
   "metadata": {},
   "outputs": [],
   "source": [
    "from typing import Final\n",
    "# syntax\n",
    "# variable: Final=value\n",
    "pi: Final=3.14"
   ]
  },
  {
   "cell_type": "markdown",
   "id": "4aa60f18",
   "metadata": {},
   "source": [
    "#### 6. Fixed Type Hinting\n",
    "if there are only fixed values for variable, use Literal."
   ]
  },
  {
   "cell_type": "code",
   "execution_count": 7,
   "id": "e918cc78",
   "metadata": {},
   "outputs": [],
   "source": [
    "from typing import Literal\n",
    "# syntax\n",
    "# value : Literal[fixed_value1,fixed_value2,...]=value\n",
    "gender:Literal['male','female']='male'"
   ]
  },
  {
   "cell_type": "markdown",
   "id": "150402e1",
   "metadata": {},
   "source": [
    "#### 7. Any Type Hinting\n",
    "if variable can have any type, we use ANY."
   ]
  },
  {
   "cell_type": "code",
   "execution_count": 8,
   "id": "7b7a7fad",
   "metadata": {},
   "outputs": [],
   "source": [
    "from typing import Any\n",
    "# syntax\n",
    "# varialbe: Any=value\n",
    "data:Any=23"
   ]
  },
  {
   "cell_type": "markdown",
   "id": "93a2fa8f",
   "metadata": {},
   "source": [
    "#### 8.Type Hinting in Functions\n",
    " i) Type hinting for parameters.\n",
    " ii) Type hinting for return type"
   ]
  },
  {
   "cell_type": "code",
   "execution_count": 9,
   "id": "1e38f33d",
   "metadata": {},
   "outputs": [],
   "source": [
    "# Syntax\n",
    "# def function_name(par1: type,par2: type,....)-> type:\n",
    "def hai(a:int,b:str)->int:\n",
    "    return a"
   ]
  },
  {
   "cell_type": "markdown",
   "id": "91e066b3",
   "metadata": {},
   "source": [
    "#### 9. Type Hinting for Function object\n",
    "if the parameter is function object, we use Callable.\n"
   ]
  },
  {
   "cell_type": "code",
   "execution_count": 10,
   "id": "8a9eea2e",
   "metadata": {},
   "outputs": [],
   "source": [
    "from typing import Callable\n",
    "#syntax\n",
    "# def fun1(fun2:Callable)->type:\n",
    "def fun1(fun2:Callable):\n",
    "    return None\n",
    "def fun2():\n",
    "    return None"
   ]
  },
  {
   "cell_type": "markdown",
   "id": "31c3e3fa",
   "metadata": {},
   "source": [
    "#### 10. Type Hinting Aliasing\n",
    "we can provide shorter names(aliasing) for complex type hints. "
   ]
  },
  {
   "cell_type": "code",
   "execution_count": 11,
   "id": "fdf5b02e",
   "metadata": {},
   "outputs": [],
   "source": [
    "from typing import TypeAlias\n",
    "type1: TypeAlias= Union[int,str,float]\n",
    "data: type1=\"hai\"\n",
    "    # or\n",
    "type1=Union[int,str,float]\n",
    "data: type1=\"hai\""
   ]
  },
  {
   "cell_type": "code",
   "execution_count": null,
   "id": "984fc1a3",
   "metadata": {},
   "outputs": [],
   "source": []
  }
 ],
 "metadata": {
  "kernelspec": {
   "display_name": "Python 3 (ipykernel)",
   "language": "python",
   "name": "python3"
  },
  "language_info": {
   "codemirror_mode": {
    "name": "ipython",
    "version": 3
   },
   "file_extension": ".py",
   "mimetype": "text/x-python",
   "name": "python",
   "nbconvert_exporter": "python",
   "pygments_lexer": "ipython3",
   "version": "3.10.7"
  }
 },
 "nbformat": 4,
 "nbformat_minor": 5
}
