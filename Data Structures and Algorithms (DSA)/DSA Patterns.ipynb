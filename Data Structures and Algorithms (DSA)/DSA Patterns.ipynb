{
 "cells": [
  {
   "cell_type": "markdown",
   "id": "dda9f506",
   "metadata": {},
   "source": [
    "# Patterns "
   ]
  },
  {
   "attachments": {
    "image.png": {
     "image/png": "[encoded data removed]"
    }
   },
   "cell_type": "markdown",
   "id": "4298cb47",
   "metadata": {},
   "source": [
    "1.  ![image.png](attachment:image.png)"
   ]
  },
  {
   "cell_type": "markdown",
   "id": "4cbd9035",
   "metadata": {},
   "source": [
    "solution:-"
   ]
  },
  {
   "cell_type": "code",
   "execution_count": 4,
   "id": "74cfee05",
   "metadata": {},
   "outputs": [
    {
     "name": "stdout",
     "output_type": "stream",
     "text": [
      "5\n",
      "*****\n",
      "*****\n",
      "*****\n",
      "*****\n",
      "*****\n"
     ]
    }
   ],
   "source": [
    "a=int(input())\n",
    "for _ in range(a): # for each row\n",
    "    for _ in range(a): #for each column\n",
    "        print(\"*\",end=\"\") # in each row, printing * with no space\n",
    "    print() # just like new line character"
   ]
  },
  {
   "attachments": {
    "image-2.png": {
     "image/png": "[encoded data removed]"
    }
   },
   "cell_type": "markdown",
   "id": "e1320d70",
   "metadata": {},
   "source": [
    "2. ![image-2.png](attachment:image-2.png)"
   ]
  },
  {
   "cell_type": "markdown",
   "id": "b9fc799c",
   "metadata": {},
   "source": [
    "solution:-"
   ]
  },
  {
   "cell_type": "code",
   "execution_count": 9,
   "id": "bd88b16e",
   "metadata": {},
   "outputs": [
    {
     "name": "stdout",
     "output_type": "stream",
     "text": [
      "5\n",
      "*\n",
      "**\n",
      "***\n",
      "****\n",
      "*****\n"
     ]
    }
   ],
   "source": [
    "a=int(input())\n",
    "for i in range(a): # for number of rows\n",
    "    for j in range(i+1): # i+1 because range(a) gives 0 too. range(0)=nothing. for number of columns\n",
    "        print(\"*\",end=\"\")\n",
    "    print()"
   ]
  },
  {
   "attachments": {
    "image.png": {
     "image/png": "[encoded data removed]"
    }
   },
   "cell_type": "markdown",
   "id": "738fe11b",
   "metadata": {},
   "source": [
    "3. ![image.png](attachment:image.png)"
   ]
  },
  {
   "cell_type": "markdown",
   "id": "8ac5dd0d",
   "metadata": {},
   "source": [
    "solution:-"
   ]
  },
  {
   "cell_type": "code",
   "execution_count": 12,
   "id": "4c412242",
   "metadata": {},
   "outputs": [
    {
     "name": "stdout",
     "output_type": "stream",
     "text": [
      "5\n",
      "1\n",
      "12\n",
      "123\n",
      "1234\n",
      "12345\n"
     ]
    }
   ],
   "source": [
    "for i in range(1,int(input())+1): #(1,int(input())+1) because to eliminate 0. for rows\n",
    "    for j in range(1,i+1): # (1,i+1) because to eliminate 0. for columns\n",
    "        print(j,end=\"\")\n",
    "    print()"
   ]
  },
  {
   "attachments": {
    "image.png": {
     "image/png": "[encoded data removed]"
    }
   },
   "cell_type": "markdown",
   "id": "9c6c6065",
   "metadata": {},
   "source": [
    "4. ![image.png](attachment:image.png)"
   ]
  },
  {
   "cell_type": "markdown",
   "id": "e1b1e9ae",
   "metadata": {},
   "source": [
    "solution:-"
   ]
  },
  {
   "cell_type": "code",
   "execution_count": 13,
   "id": "5beaa8eb",
   "metadata": {},
   "outputs": [
    {
     "name": "stdout",
     "output_type": "stream",
     "text": [
      "5\n",
      "1\n",
      "22\n",
      "333\n",
      "4444\n",
      "55555\n"
     ]
    }
   ],
   "source": [
    "for i in range(1,int(input())+1):\n",
    "    for j in range(1,i+1):\n",
    "        print(i,end=\"\")\n",
    "    print()"
   ]
  },
  {
   "attachments": {
    "image.png": {
     "image/png": "[encoded data removed]"
    }
   },
   "cell_type": "markdown",
   "id": "8c1e0762",
   "metadata": {},
   "source": [
    "5.  ![image.png](attachment:image.png)"
   ]
  },
  {
   "cell_type": "markdown",
   "id": "37829cf9",
   "metadata": {},
   "source": [
    "solution:-"
   ]
  },
  {
   "cell_type": "code",
   "execution_count": 12,
   "id": "5caaf19b",
   "metadata": {},
   "outputs": [
    {
     "name": "stdout",
     "output_type": "stream",
     "text": [
      "5\n",
      "*****\n",
      "****\n",
      "***\n",
      "**\n",
      "*\n"
     ]
    }
   ],
   "source": [
    "n=int(input()) #5\n",
    "for i in range(n): # for rows. 0,1,2,3,4.\n",
    "    for j in range(n): # for columns. 0,1,2,3,4.\n",
    "        if j<n-i:  # taking one from each reach row.\n",
    "            print(\"*\",end=\"\")\n",
    "    print()"
   ]
  },
  {
   "cell_type": "code",
   "execution_count": 6,
   "id": "0cd86684",
   "metadata": {},
   "outputs": [
    {
     "name": "stdout",
     "output_type": "stream",
     "text": [
      "5\n",
      "*****\n",
      "****\n",
      "***\n",
      "**\n",
      "*\n"
     ]
    }
   ],
   "source": [
    "a=int(input())\n",
    "for i in range(a):# for rows\n",
    "    for _ in range(a-i,0,-1): # (a-i,0,-1)- reverse ordering, 0 will be stop and not considered.\n",
    "        print(\"*\",end=\"\")\n",
    "    print()"
   ]
  },
  {
   "attachments": {
    "image.png": {
     "image/png": "[encoded data removed]"
    }
   },
   "cell_type": "markdown",
   "id": "987e325d",
   "metadata": {},
   "source": [
    "6. ![image.png](attachment:image.png)"
   ]
  },
  {
   "cell_type": "markdown",
   "id": "a7b28ddb",
   "metadata": {},
   "source": [
    "solution:-"
   ]
  },
  {
   "cell_type": "code",
   "execution_count": 10,
   "id": "17b75580",
   "metadata": {},
   "outputs": [
    {
     "name": "stdout",
     "output_type": "stream",
     "text": [
      "5\n",
      "12345\n",
      "1234\n",
      "123\n",
      "12\n",
      "1\n"
     ]
    }
   ],
   "source": [
    "a=int(input())\n",
    "for i in range(a):# for rows. 0,1,2,3,4\n",
    "    k=1 # for the pattern to start at 1 in each iteration\n",
    "    for j in range(a-i,0,-1): # for columns. 5,4,3,2,1. denotes no of elements in each row\n",
    "        print(k,end=\"\")\n",
    "        k+=1    # increments in reach iteration\n",
    "    print()# for new line"
   ]
  },
  {
   "attachments": {
    "image.png": {
     "image/png": "[encoded data removed]"
    }
   },
   "cell_type": "markdown",
   "id": "ca3fca6f",
   "metadata": {},
   "source": [
    "7. ![image.png](attachment:image.png)"
   ]
  },
  {
   "cell_type": "raw",
   "id": "de537798",
   "metadata": {},
   "source": [
    "solution:-\n",
    "        you should find number of columns based on rows. if n rows are given, the columns will be (2*n)-1.\n",
    "        if you observe first row, a star is printed in first row at n position.\n",
    "        in 2nd row, n-1,n,n+1.\n",
    "        in 3rd row, n-2,n-1,n,n-1,n-2.\n",
    "        and so on\n",
    "        if we observe,\n",
    "        2nd row, n-1,n+1 can be rewritted as n-(i-1) and n+(i-1)\n",
    "        3rd row, n-2,n-1,n+1,n+2 can be rewritted as n-(i-1) and n+(i-1)\n",
    "        and so on\n",
    "        the statement here is \n",
    "            if n-(i-1)<j<n+(i-1):\n",
    "                print('*')\n",
    "        https://www.youtube.com/watch?v=KdM6OrvcjPI"
   ]
  },
  {
   "cell_type": "code",
   "execution_count": 20,
   "id": "181b8cd1",
   "metadata": {},
   "outputs": [
    {
     "name": "stdout",
     "output_type": "stream",
     "text": [
      "5\n",
      "     *    \n",
      "    ***   \n",
      "   *****  \n",
      "  ******* \n",
      " *********\n"
     ]
    }
   ],
   "source": [
    "n=int(input()) # 5\n",
    "for i in range(n): # for number of rows. 0,1,2,3,4\n",
    "    for j in range(2*n): # range(2*n) gives columns. r=n,c=2*n-1. 0,1,2,3,4,5,6,7,8.\n",
    "        if n-i<=j<=n+i: # n-i<=j and j<=n+i \n",
    "            print(\"*\",end=\"\")\n",
    "        else:\n",
    "            print(\" \",end=\"\")\n",
    "    print()"
   ]
  },
  {
   "attachments": {
    "image.png": {
     "image/png": "[encoded data removed]"
    }
   },
   "cell_type": "markdown",
   "id": "e37f239d",
   "metadata": {},
   "source": [
    "8. ![image.png](attachment:image.png)"
   ]
  },
  {
   "cell_type": "markdown",
   "id": "148be993",
   "metadata": {},
   "source": [
    "solution:- \n",
    "         follow the "
   ]
  },
  {
   "cell_type": "code",
   "execution_count": 1,
   "id": "8706ffd5",
   "metadata": {},
   "outputs": [
    {
     "name": "stdout",
     "output_type": "stream",
     "text": [
      "5\n",
      " *********\n",
      "  ******* \n",
      "   *****  \n",
      "    ***   \n",
      "     *    \n"
     ]
    }
   ],
   "source": [
    "n=int(input()) # 5\n",
    "for i in range(n): # for rows. 0,1,2,3,4.\n",
    "    for j in range(2*n): # for columns. 0,1,2,3,4,5,6,7,8.\n",
    "        if i<j<(2*n)-i: # i<j and j<(2*n)-i \n",
    "            print(\"*\",end=\"\")\n",
    "        else:\n",
    "            print(\" \",end=\"\")\n",
    "    print()"
   ]
  },
  {
   "attachments": {
    "image.png": {
     "image/png": "[encoded data removed]"
    }
   },
   "cell_type": "markdown",
   "id": "1ea67bd5",
   "metadata": {},
   "source": [
    "9. ![image.png](attachment:image.png)"
   ]
  },
  {
   "cell_type": "markdown",
   "id": "4cee5390",
   "metadata": {},
   "source": [
    "solution:- combine previous 2 problems"
   ]
  },
  {
   "cell_type": "code",
   "execution_count": 7,
   "id": "f5c5c5e9",
   "metadata": {},
   "outputs": [
    {
     "name": "stdout",
     "output_type": "stream",
     "text": [
      "5\n",
      "     *    \n",
      "    ***   \n",
      "   *****  \n",
      "  ******* \n",
      " *********\n",
      " *********\n",
      "  ******* \n",
      "   *****  \n",
      "    ***   \n",
      "     *    \n"
     ]
    }
   ],
   "source": [
    "n=int(input()) # 5\n",
    "for i in range(2*n): # for rows. 2*n, is for upper and lower pyramid. 0,1,2,3,4,5,6,7,8,9.\n",
    "    for j in range(2*n): # for columns. 2*n-1 columns. 0,1,2,3,4,5,6,7,8,9.\n",
    "        if i<n:           # for upper pyramid. (0,1,2,3,4)<5.\n",
    "            if n-i<=j<=n+i: # from n to n+i and n-i\n",
    "                print(\"*\",end=\"\")\n",
    "            else:\n",
    "                print(\" \",end=\"\")\n",
    "        else:              # for lower pyramid. (5,6,7,8,9)\n",
    "            if (i-n)<j<(2*n)-(i-n): # from 0 and 2*n to n. \n",
    "                print(\"*\",end=\"\")\n",
    "            else:\n",
    "                print(\" \",end=\"\")\n",
    "    print()"
   ]
  },
  {
   "attachments": {
    "image.png": {
     "image/png": "[encoded data removed]"
    }
   },
   "cell_type": "markdown",
   "id": "fca21488",
   "metadata": {},
   "source": [
    "10. ![image.png](attachment:image.png)"
   ]
  },
  {
   "cell_type": "markdown",
   "id": "a5a5f93e",
   "metadata": {},
   "source": [
    "solution:- combine 2 and 5."
   ]
  },
  {
   "cell_type": "code",
   "execution_count": 17,
   "id": "1f31f5a4",
   "metadata": {},
   "outputs": [
    {
     "name": "stdout",
     "output_type": "stream",
     "text": [
      "5\n",
      "*\n",
      "**\n",
      "***\n",
      "****\n",
      "*****\n",
      "****\n",
      "***\n",
      "**\n",
      "*\n"
     ]
    }
   ],
   "source": [
    "n=int(input()) # 5\n",
    "for i in range(2*n-1): # for rows. 0,1,2,3,4,5,6,7,8.\n",
    "    for j in range(n): #  for columns. 0,1,2,3,4.\n",
    "        if i<n:  # for upper triangle. (0,1,2,3,4)<5\n",
    "            if j<=i: # i increases.\n",
    "                print(\"*\",end=\"\")\n",
    "        else:    # for lower triangle. (5,6,7,8)\n",
    "            if i-n<j: # j increases and it was not grid based one. check the code below.\n",
    "                print(\"*\",end=\"\")\n",
    "    print()"
   ]
  },
  {
   "cell_type": "code",
   "execution_count": 19,
   "id": "2601db87",
   "metadata": {},
   "outputs": [
    {
     "name": "stdout",
     "output_type": "stream",
     "text": [
      "*\n",
      "**\n",
      "***\n",
      "****\n",
      "*****\n",
      "0 1   0 2   0 3   0 4   \n",
      "1 2   1 3   1 4   \n",
      "2 3   2 4   \n",
      "3 4   \n"
     ]
    }
   ],
   "source": [
    "for i in range(2*n-1):\n",
    "    for j in range(n):\n",
    "        if i<n:\n",
    "            if j<=i:\n",
    "                print(\"*\",end=\"\")\n",
    "        else:\n",
    "            if i-n<j:\n",
    "                print(i-n,j,end=\"   \")\n",
    "    print()"
   ]
  },
  {
   "attachments": {
    "image.png": {
     "image/png": "[encoded data removed]"
    }
   },
   "cell_type": "markdown",
   "id": "d67f182b",
   "metadata": {},
   "source": [
    "11. ![image.png](attachment:image.png)"
   ]
  },
  {
   "cell_type": "markdown",
   "id": "82a43b58",
   "metadata": {},
   "source": [
    "solution:- \n",
    "        sum the co-ordinates and find it whether it was even or odd. \n",
    "        print 1 if even else print 0."
   ]
  },
  {
   "cell_type": "code",
   "execution_count": 22,
   "id": "6bd7975c",
   "metadata": {},
   "outputs": [
    {
     "name": "stdout",
     "output_type": "stream",
     "text": [
      "5\n",
      "1 \n",
      "0 1 \n",
      "1 0 1 \n",
      "0 1 0 1 \n",
      "1 0 1 0 1 \n"
     ]
    }
   ],
   "source": [
    "n=int(input()) # 5\n",
    "for i in range(n):                                                                                  #  [Brute-force]\n",
    "    for j in range(i+1):  \n",
    "        if i%2==0:\n",
    "            if j%2==0:\n",
    "                print(\"1 \",end=\"\")\n",
    "            else:\n",
    "                print(\"0 \",end=\"\")\n",
    "        else:\n",
    "            if j%2==0:\n",
    "                print(\"0 \",end=\"\")\n",
    "            else:\n",
    "                print(\"1 \",end=\"\")\n",
    "    print()"
   ]
  },
  {
   "cell_type": "code",
   "execution_count": 25,
   "id": "70963ba9",
   "metadata": {},
   "outputs": [
    {
     "name": "stdout",
     "output_type": "stream",
     "text": [
      "5\n",
      "1 \n",
      "0 1 \n",
      "1 0 1 \n",
      "0 1 0 1 \n",
      "1 0 1 0 1 \n"
     ]
    }
   ],
   "source": [
    "n=int(input()) # 5\n",
    "for i in range(n):  # for rows. 0,1,2,3,4                                                                               # [Optimal]\n",
    "    for j in range(i+1): # for columns. will vary with i.\n",
    "        if (i+j)%2==0:  # checking sum of co-ordinates is even or odd.\n",
    "            print(\"1 \",end=\"\")\n",
    "        else: \n",
    "            print(\"0 \",end=\"\")\n",
    "    print()"
   ]
  },
  {
   "attachments": {
    "image.png": {
     "image/png": "[encoded data removed]"
    }
   },
   "cell_type": "markdown",
   "id": "a81fcd8a",
   "metadata": {},
   "source": [
    "12. ![image.png](attachment:image.png)"
   ]
  },
  {
   "cell_type": "markdown",
   "id": "0dec7514",
   "metadata": {},
   "source": [
    "solution:-\n",
    "    from rows count, calculate the columns count. r=n, c=2*n.\n",
    "    divide the columns into 2 parts and implement increasing order and decreasing order in respective parts.\n",
    "    create a variable and increment it in increasing order and decrement in the decreasing order."
   ]
  },
  {
   "cell_type": "code",
   "execution_count": 33,
   "id": "c8a05a19",
   "metadata": {},
   "outputs": [
    {
     "name": "stdout",
     "output_type": "stream",
     "text": [
      "4\n",
      "1      1\n",
      "12    21\n",
      "123  321\n",
      "12344321\n"
     ]
    }
   ],
   "source": [
    "n=int(input()) # 4\n",
    "for i in range(n): # for rows. 0,1,2,3.\n",
    "    k=1   # variable to alter numbers in pattern\n",
    "    for j in range(2*n): # for columns. 0,1,2,3,4,5,6,7.\n",
    "        if j<n:        # for left triangle\n",
    "            if j<=i: # creating increasing pattern. with i variable.\n",
    "                print(k,end=\"\")\n",
    "                k+=1 # increasing variable value\n",
    "            else:\n",
    "                print(\" \",end=\"\")\n",
    "        else:          # for right triangle\n",
    "            if ((2*n)-1)-i<=j: # creating decreasing order with help of column count\n",
    "                k-=1 # decreasing variable value\n",
    "                print(k,end=\"\")\n",
    "            else:\n",
    "                print(\" \",end=\"\")\n",
    "    print()\n",
    "            \n",
    "        "
   ]
  },
  {
   "attachments": {
    "image.png": {
     "image/png": "[encoded data removed]"
    }
   },
   "cell_type": "markdown",
   "id": "2b539f0f",
   "metadata": {},
   "source": [
    "13. ![image.png](attachment:image.png)"
   ]
  },
  {
   "cell_type": "markdown",
   "id": "a86f144c",
   "metadata": {},
   "source": [
    "solution:-\n",
    "        should have a extra numerical to maintain the order."
   ]
  },
  {
   "cell_type": "code",
   "execution_count": 34,
   "id": "d880fdab",
   "metadata": {},
   "outputs": [
    {
     "name": "stdout",
     "output_type": "stream",
     "text": [
      "5\n",
      "1 \n",
      "2 3 \n",
      "4 5 6 \n",
      "7 8 9 10 \n",
      "11 12 13 14 15 \n"
     ]
    }
   ],
   "source": [
    "n=int(input()) # 5\n",
    "k=1 # to maintain the numberical order.\n",
    "for i in range(n): # for rows. 0,1,2,3,4.\n",
    "    for j in range(i+1): # for columns. \n",
    "        print(k,end=\" \")\n",
    "        k+=1\n",
    "    print()"
   ]
  },
  {
   "attachments": {
    "image.png": {
     "image/png": "[encoded data removed]"
    }
   },
   "cell_type": "markdown",
   "id": "4a17ae7c",
   "metadata": {},
   "source": [
    "14. ![image.png](attachment:image.png)"
   ]
  },
  {
   "cell_type": "raw",
   "id": "50c45c44",
   "metadata": {},
   "source": [
    "solution:- \n",
    "    use ord() or chr() functions. \n",
    "    should have an extra variable just as above."
   ]
  },
  {
   "cell_type": "code",
   "execution_count": 36,
   "id": "5f8f0859",
   "metadata": {},
   "outputs": [
    {
     "name": "stdout",
     "output_type": "stream",
     "text": [
      "5\n",
      "A\n",
      "AB\n",
      "ABC\n",
      "ABCD\n",
      "ABCDE\n"
     ]
    }
   ],
   "source": [
    "n=int(input()) # 5\n",
    "for i in range(n): # for rows. 0,1,2,3,4.\n",
    "    k=65  # extra variable\n",
    "    for j in range(i+1): # for columns\n",
    "        print(chr(k),end=\"\") # print character using number.\n",
    "        k+=1\n",
    "    print()"
   ]
  },
  {
   "attachments": {
    "image.png": {
     "image/png": "[encoded data removed]"
    }
   },
   "cell_type": "markdown",
   "id": "6717e1d7",
   "metadata": {},
   "source": [
    "15. ![image.png](attachment:image.png)\n"
   ]
  },
  {
   "cell_type": "markdown",
   "id": "95524faf",
   "metadata": {},
   "source": [
    "solution:- just as above problem."
   ]
  },
  {
   "cell_type": "code",
   "execution_count": 39,
   "id": "cdc1fe9e",
   "metadata": {},
   "outputs": [
    {
     "name": "stdout",
     "output_type": "stream",
     "text": [
      "5\n",
      "ABCDE\n",
      "ABCD\n",
      "ABC\n",
      "AB\n",
      "A\n"
     ]
    }
   ],
   "source": [
    "n=int(input()) # 5\n",
    "for i in range(n): # for rows. 0,1,2,3,4.\n",
    "    k=65 # extra variable\n",
    "    for j in range(n): # for columns. 0,1,2,3,4.\n",
    "        if i<=j: # for decreasing order.\n",
    "            print(chr(k),end=\"\")\n",
    "            k+=1\n",
    "    print()"
   ]
  },
  {
   "attachments": {
    "image.png": {
     "image/png": "[encoded data removed]"
    }
   },
   "cell_type": "markdown",
   "id": "1eaf1107",
   "metadata": {},
   "source": [
    "16. ![image.png](attachment:image.png)"
   ]
  },
  {
   "cell_type": "markdown",
   "id": "8babd224",
   "metadata": {},
   "source": [
    "solution:-\n",
    "    needed an extra variable."
   ]
  },
  {
   "cell_type": "code",
   "execution_count": 41,
   "id": "2b2183f2",
   "metadata": {},
   "outputs": [
    {
     "name": "stdout",
     "output_type": "stream",
     "text": [
      "5\n",
      "A\n",
      "BB\n",
      "CCC\n",
      "DDDD\n",
      "EEEEE\n"
     ]
    }
   ],
   "source": [
    "n=int(input()) # 5\n",
    "k=65 # extra variable\n",
    "for i in range(n): # for rows. 0,1,2,3,4.\n",
    "    for j in range(n): # for columns. 0,1,2,3,4.\n",
    "        if j<=i: # creating increasing order.\n",
    "            print(chr(k),end=\"\")\n",
    "    k+=1 # increasing order for variable.\n",
    "    print()  "
   ]
  },
  {
   "attachments": {
    "image.png": {
     "image/png": "[encoded data removed]"
    }
   },
   "cell_type": "markdown",
   "id": "14d521aa",
   "metadata": {},
   "source": [
    "17. ![image.png](attachment:image.png)"
   ]
  },
  {
   "cell_type": "markdown",
   "id": "31605400",
   "metadata": {},
   "source": [
    "solution:- just as 7th problem. \n",
    "           you just need a variable to print characters.\n",
    "          in this problem you need to fill the spaces first and then go for the remaining places in matrix."
   ]
  },
  {
   "cell_type": "code",
   "execution_count": 90,
   "id": "898e4f44",
   "metadata": {},
   "outputs": [
    {
     "name": "stdout",
     "output_type": "stream",
     "text": [
      "4\n",
      "    A   \n",
      "   ABA  \n",
      "  ABCBA \n",
      " ABCDCBA\n"
     ]
    }
   ],
   "source": [
    "n=int(input()) # 4\n",
    "for i in range(n): # for rows. 0,1,2,3.\n",
    "    k=65 # extra varialbe.\n",
    "    for j in range((2*n)): # for columns. r=n,c=2*n. 0,1,2,3,4,5,6,7.\n",
    "        if j<n-i or j>n+i : # creating spaces. using pyramid formula.\n",
    "            print(\" \",end=\"\")\n",
    "        else:\n",
    "            if n==j: # for middle column of the pyramid.\n",
    "                print(chr(k),end=\"\")\n",
    "                k-=1 # single time variable decrement for a row.\n",
    "            else:\n",
    "                if n-i<=j<n: # creating an increasing order.\n",
    "                    print(chr(k),end=\"\")\n",
    "                    k+=1 # variable increment\n",
    "                else: # for decrement order\n",
    "                    print(chr(k),end=\"\")\n",
    "                    k-=1 # varialbe decrement\n",
    "    print()"
   ]
  },
  {
   "attachments": {
    "image.png": {
     "image/png": "[encoded data removed]"
    }
   },
   "cell_type": "markdown",
   "id": "37fecf68",
   "metadata": {},
   "source": [
    "18. ![image.png](attachment:image.png)"
   ]
  },
  {
   "cell_type": "markdown",
   "id": "55d41a29",
   "metadata": {},
   "source": [
    "solution:-\n",
    "         just as 2nd problem. here you should have 2 variables to maintain the alphabetical series."
   ]
  },
  {
   "cell_type": "code",
   "execution_count": 94,
   "id": "d2b69fb6",
   "metadata": {},
   "outputs": [
    {
     "name": "stdout",
     "output_type": "stream",
     "text": [
      "5\n",
      "E \n",
      "D E \n",
      "C D E \n",
      "B C D E \n",
      "A B C D E \n"
     ]
    }
   ],
   "source": [
    "n=int(input()) # 5\n",
    "k=65+4 # variable for having 'E' word ascii code.\n",
    "for i in range(n): # for rows. 0,1,2,3,4.\n",
    "    p=k-i # for each row. we decrease k value and store in p.\n",
    "    for j in range(n): # for columns. 0,1,2,3,4.\n",
    "        if j<=i: # for increasing order.\n",
    "            print(chr(p),end=\" \")\n",
    "            p+=1 # variable increment\n",
    "    print()"
   ]
  },
  {
   "attachments": {
    "image.png": {
     "image/png": "[encoded data removed]"
    }
   },
   "cell_type": "markdown",
   "id": "3f40a2b5",
   "metadata": {},
   "source": [
    "19. ![image.png](attachment:image.png)"
   ]
  },
  {
   "cell_type": "markdown",
   "id": "b146ad16",
   "metadata": {},
   "source": [
    "solution:- the trick is focus that was present in middle whether it was space or star. write condition for that."
   ]
  },
  {
   "cell_type": "code",
   "execution_count": 4,
   "id": "afbb3942",
   "metadata": {},
   "outputs": [
    {
     "name": "stdout",
     "output_type": "stream",
     "text": [
      "5\n",
      "**********\n",
      "****  ****\n",
      "***    ***\n",
      "**      **\n",
      "*        *\n",
      "*        *\n",
      "**      **\n",
      "***    ***\n",
      "****  ****\n",
      "**********\n"
     ]
    }
   ],
   "source": [
    "n=int(input()) # 5\n",
    "for i in range(2*n): # for rows. 0,1,2,3,4,5,6,7,8,9.\n",
    "    for j in range(2*n): # for columns. 0,1,2,3,4,5,6,7,8,9.\n",
    "        if i<5:\n",
    "            if n-i<=j and j<n+i: # condition for printing spaces\n",
    "                print(\" \",end=\"\")\n",
    "            else:\n",
    "                print(\"*\",end=\"\")\n",
    "        else:\n",
    "            if i-n<j and j<((2*n)-1)-(i-n): # condition for printing spaces\n",
    "                print(\" \",end=\"\")\n",
    "            else:\n",
    "                print(\"*\",end=\"\")\n",
    "    print()"
   ]
  },
  {
   "cell_type": "code",
   "execution_count": 116,
   "id": "e11d13df",
   "metadata": {},
   "outputs": [
    {
     "name": "stdout",
     "output_type": "stream",
     "text": [
      "5\n",
      "**********\n",
      "****  ****\n",
      "***    ***\n",
      "**      **\n",
      "*        *\n",
      "*        *\n",
      "**      **\n",
      "***    ***\n",
      "****  ****\n",
      "**********\n"
     ]
    }
   ],
   "source": [
    "n=int(input()) # 5\n",
    "for i in range(2*n): # for rows. 0,1,2,3,4,5,6,7,8,9.\n",
    "    for j in range(2*n): # for columns. 0,1,2,3,4,5,6,7,8,9.\n",
    "        if i<n: # first half pyramid. 0,1,2,3,4.\n",
    "            if j<n-i or n+i<=j: \n",
    "                print(\"*\",end=\"\")\n",
    "            else:\n",
    "                print(\" \",end=\"\")\n",
    "        else: # second half pyramid. 5,6,7,8,9.\n",
    "            if i-n<j and j<n+(2*n)-i-1:\n",
    "                print(\" \",end=\"\")\n",
    "            else:\n",
    "                print(\"*\",end=\"\")\n",
    "    print()"
   ]
  },
  {
   "attachments": {
    "image.png": {
     "image/png": "[encoded data removed]"
    }
   },
   "cell_type": "markdown",
   "id": "43ff417f",
   "metadata": {},
   "source": [
    "20. ![image.png](attachment:image.png)"
   ]
  },
  {
   "cell_type": "markdown",
   "id": "3dcef978",
   "metadata": {},
   "source": [
    "solution:-"
   ]
  },
  {
   "cell_type": "code",
   "execution_count": 10,
   "id": "0e61bc24",
   "metadata": {},
   "outputs": [
    {
     "name": "stdout",
     "output_type": "stream",
     "text": [
      "5\n",
      "*        *\n",
      "**      **\n",
      "***    ***\n",
      "****  ****\n",
      "**********\n",
      "****  ****\n",
      "***    ***\n",
      "**      **\n",
      "*        *\n"
     ]
    }
   ],
   "source": [
    "n=int(input()) # 5\n",
    "for i in range((2*n)-1): # for rows. 0,1,2,3,4,5,6,7,8.\n",
    "    for j in range(2*n): # for columns. 0,1,2,3,4,5,6,7,8.9.\n",
    "        if i<n:\n",
    "            if i<j and j<((2*n)-1)-i:\n",
    "                print(\" \",end=\"\")\n",
    "            else:\n",
    "                print('*',end=\"\")\n",
    "        else:\n",
    "            if n-(i-n)-1<=j and j<n+(i-n)+1:\n",
    "                print(\" \",end=\"\")\n",
    "            else:\n",
    "                print(\"*\",end=\"\")\n",
    "    print()\n",
    "                "
   ]
  },
  {
   "cell_type": "code",
   "execution_count": 125,
   "id": "390d8845",
   "metadata": {},
   "outputs": [
    {
     "name": "stdout",
     "output_type": "stream",
     "text": [
      "5\n",
      "          \n",
      "*        *\n",
      "**      **\n",
      "***    ***\n",
      "****  ****\n",
      "**********\n",
      "****  ****\n",
      "***    ***\n",
      "**      **\n",
      "*        *\n"
     ]
    }
   ],
   "source": [
    "n=int(input()) # 5\n",
    "for i in range((2*n)):\n",
    "    for j in range(2*n):\n",
    "        if i<=n:\n",
    "            if j<i or j>=(2*n)-i:\n",
    "                print(\"*\",end=\"\")\n",
    "            else:\n",
    "                print(\" \",end=\"\")\n",
    "        else:\n",
    "            if j<n-(i-n) or i<=j:\n",
    "                print(\"*\",end=\"\")\n",
    "            else:\n",
    "                print(\" \",end=\"\")\n",
    "    print()"
   ]
  },
  {
   "attachments": {
    "image.png": {
     "image/png": "[encoded data removed]"
    }
   },
   "cell_type": "markdown",
   "id": "b1db4b5a",
   "metadata": {},
   "source": [
    "21. ![image.png](attachment:image.png)"
   ]
  },
  {
   "cell_type": "markdown",
   "id": "81c16289",
   "metadata": {},
   "source": [
    "solution:-"
   ]
  },
  {
   "cell_type": "code",
   "execution_count": 127,
   "id": "0ba8037b",
   "metadata": {},
   "outputs": [
    {
     "name": "stdout",
     "output_type": "stream",
     "text": [
      "4\n",
      "****\n",
      "*  *\n",
      "*  *\n",
      "****\n"
     ]
    }
   ],
   "source": [
    "n=int(input()) # 4\n",
    "for i in range(n): # for rows. 0,1,2,3.\n",
    "    for j in range(n): # for columns. 0,1,2,3.\n",
    "        if i==0 or j==0 or i==n-1 or j==n-1: # focusing on only boundaries.\n",
    "            print(\"*\",end=\"\")\n",
    "        else:\n",
    "            print(\" \",end=\"\")\n",
    "    print()\n",
    "    #print()"
   ]
  },
  {
   "attachments": {
    "image.png": {
     "image/png": "[encoded data removed]"
    }
   },
   "cell_type": "markdown",
   "id": "a322997d",
   "metadata": {},
   "source": [
    "22. ![image.png](attachment:image.png)"
   ]
  },
  {
   "cell_type": "markdown",
   "id": "260de4ad",
   "metadata": {},
   "source": [
    "solution:-\n",
    "        substract the whole matrix with n. you will get a new matrix.\n",
    "        the value in each cell represent the minimal distance between the cell and it's boundaries.(top, left, right,bottom).\n",
    "        "
   ]
  },
  {
   "cell_type": "code",
   "execution_count": 129,
   "id": "bef4b479",
   "metadata": {},
   "outputs": [
    {
     "name": "stdout",
     "output_type": "stream",
     "text": [
      "4\n",
      "4444444\n",
      "4333334\n",
      "4322234\n",
      "4321234\n",
      "4322234\n",
      "4333334\n",
      "4444444\n"
     ]
    }
   ],
   "source": [
    "n=int(input()) # 4\n",
    "for i in range((2*n)-1): # for rows. 0,1,2,3,4,5,6. r=n,c=(2*n)-1\n",
    "    for j in range((2*n)-1): #  for columns. 0,1,2,3,4,5,6. r=n,c=(2*n)-1\n",
    "        top=i # the distance from cell to it's top boundary will be i itself.\n",
    "        left=j # the distance from cell to it's left boundary will be j itself.\n",
    "        right=((2*n)-2)-j # the distance from cell to it's right boundary will be ((2*n)-1)-i\n",
    "        bottom=((2*n)-2)-i # the distance from cell to it's bottom boundary will be ((2*n)-1)-j\n",
    "        print(n-min(top,left,right,bottom),end=\"\") # finding minimal gives new matrix. subtract it with n will give matrix.\n",
    "    print()\n",
    "        "
   ]
  },
  {
   "cell_type": "code",
   "execution_count": null,
   "id": "a7677ead",
   "metadata": {},
   "outputs": [],
   "source": []
  }
 ],
 "metadata": {
  "kernelspec": {
   "display_name": "Python 3 (ipykernel)",
   "language": "python",
   "name": "python3"
  },
  "language_info": {
   "codemirror_mode": {
    "name": "ipython",
    "version": 3
   },
   "file_extension": ".py",
   "mimetype": "text/x-python",
   "name": "python",
   "nbconvert_exporter": "python",
   "pygments_lexer": "ipython3",
   "version": "3.10.7"
  }
 },
 "nbformat": 4,
 "nbformat_minor": 5
}
