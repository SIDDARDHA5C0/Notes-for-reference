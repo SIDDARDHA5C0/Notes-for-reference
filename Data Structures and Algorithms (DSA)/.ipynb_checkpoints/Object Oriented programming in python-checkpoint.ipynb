{
 "cells": [
  {
   "cell_type": "raw",
   "id": "8b90f4e8",
   "metadata": {},
   "source": [
    "A class is created by using 'class' keyword.\n",
    "we create a constructor by using '__init__' method.\n",
    "Each instance method has first paramether as 'self'. \n",
    "The 'self'  here refers to the class object itself.\n",
    "\n",
    "All variable are in snake_case. and class name is in PascalCase.\n",
    "A variable can be made private by adding \"__\" double underscore before it. private variables are accessed only inside class. internally it was converted into _Classname__attribute."
   ]
  },
  {
   "cell_type": "code",
   "execution_count": 4,
   "id": "582c9a44",
   "metadata": {},
   "outputs": [
    {
     "name": "stdout",
     "output_type": "stream",
     "text": [
      "20 is static variable\n",
      "20 is static variable\n",
      "101030\n",
      "10\n",
      "10\n",
      "20 is static variable\n",
      "None\n",
      "20 is static variable\n",
      "None\n",
      "20 is static variable\n"
     ]
    }
   ],
   "source": [
    "# Basic template\n",
    "class Myclass():\n",
    "    # static attributes \n",
    "    cvar1=20\n",
    "    cvar2=40\n",
    "    \n",
    "    # constructor\n",
    "    def __init__(self,par1,par2):\n",
    "        # instance attributes\n",
    "        self.par1=par1\n",
    "        self.par2=par2\n",
    "        self.__par4=par1 # converted into private variable by adding '__'(double underscore).\n",
    "        \n",
    "        par3=par2 # this is not an instance attribute,it's just a local variable\n",
    "        \n",
    "        # calling an class method\n",
    "        self.display_details()\n",
    "    \n",
    "    # method used to describe the class. returns only string.\n",
    "    def __str__(self):\n",
    "        return str(self.par1)+str(self.__par4)+str(self.par2)\n",
    "    # getter or accessor\n",
    "    def get_par4(self):\n",
    "        return self.__par4\n",
    "    #setter or mutator\n",
    "    def set_par4(self,value):\n",
    "        self.__par4=value\n",
    "    def display_details(self):\n",
    "        print(f\"{Myclass.cvar1} is static variable\")\n",
    "    def recall(self):\n",
    "        print('hai')\n",
    "\n",
    "# creating an reference variable\n",
    "m1=Myclass(10,30)\n",
    "m2=Myclass(80,90)\n",
    "\n",
    "# multiple references\n",
    "m3=m2 # id(m3)==id(m2)\n",
    "\n",
    "print(m1) # if there was __str__ method, it will invoke it and return it. else. print hexadecimal id.\n",
    "\n",
    "# accessing an variable\n",
    "print(m1.par1)\n",
    "\n",
    "# accessing an private variable\n",
    "print(m1._Myclass__par4) # not recommended. returning None now.\n",
    "\n",
    "# accessing an instance method\n",
    "print(m1.display_details()) # normal approach\n",
    "print(Myclass.display_details(m1)) # complex approach ,not recommended. returning None now.\n",
    "        \n",
    "print(f\"{Myclass.cvar1} is static variable\")"
   ]
  },
  {
   "cell_type": "markdown",
   "id": "4270c9f5",
   "metadata": {},
   "source": [
    "### Accesing an variables\n",
    "\n",
    "To access the instance variables:-\n",
    "    reference_variable.instance_variable.\n"
   ]
  },
  {
   "cell_type": "raw",
   "id": "d6ca7822",
   "metadata": {},
   "source": [
    "## Difference between function and method\n",
    " function                                      method\n",
    " invoked using function name and            invoked using object, using dot operator.\n",
    " parameters\n",
    " eg:- len(a)                                eg:- a.reverse()"
   ]
  },
  {
   "cell_type": "code",
   "execution_count": null,
   "id": "3dec55d5",
   "metadata": {},
   "outputs": [],
   "source": []
  }
 ],
 "metadata": {
  "kernelspec": {
   "display_name": "Python 3 (ipykernel)",
   "language": "python",
   "name": "python3"
  },
  "language_info": {
   "codemirror_mode": {
    "name": "ipython",
    "version": 3
   },
   "file_extension": ".py",
   "mimetype": "text/x-python",
   "name": "python",
   "nbconvert_exporter": "python",
   "pygments_lexer": "ipython3",
   "version": "3.10.7"
  }
 },
 "nbformat": 4,
 "nbformat_minor": 5
}
