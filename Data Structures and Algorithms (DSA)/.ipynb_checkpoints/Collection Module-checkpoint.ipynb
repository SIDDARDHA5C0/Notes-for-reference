{
 "cells": [
  {
   "cell_type": "markdown",
   "id": "279f0cca",
   "metadata": {},
   "source": [
    "# Collection module"
   ]
  },
  {
   "cell_type": "markdown",
   "id": "577c8241",
   "metadata": {},
   "source": [
    "## 1.Counter\n",
    "## 2. OrderedDict\n",
    "## 3.\n",
    "## 4.\n",
    "## 5.\n",
    "## 6.\n",
    "## 7."
   ]
  },
  {
   "cell_type": "markdown",
   "id": "4948680b",
   "metadata": {},
   "source": [
    "##  Counter\n",
    "used to find the frequency table of an iterable. returns a  unordered dictionary where keys are elements and values are frequency.\n",
    "\n",
    "A counter can be created by:-\n",
    "1. empty counter\n",
    "2. using an iterable\n",
    "3. using an dictionary\n",
    "4. using keywords\n",
    "\n",
    "the counter will not raise a keyError if wrong key was given.\n",
    "we can't delete a key by setting it to zero.\n",
    "\n",
    "Some of the common methods used are:-\n",
    "1. elements():- used to return a list of original elements based on frequency. zero and negatives are negelected.\n",
    "2. most_common(n):- returns a list of n key-value pairs which have maximum frequency.\n",
    "3. subtract(counter):- updates counter on subtraction of 2 counter. frequency may be negative or zero.\n",
    "4. total():- return sum of all frequencies.\n",
    "5. update(iterable):- used to update the existing counter by adding frequencies of an iterable.\n",
    "6. clear():- used to reset all the frequecies.\n",
    "\n",
    "Shortcuts:-\n",
    "1. +c:- removes all the negative frequencies and zeros frequencies in counter.\n",
    "2. -c:- removes all the positive frequencies and zero frequencies in counter and convert negative to positive"
   ]
  },
  {
   "cell_type": "code",
   "execution_count": 10,
   "id": "bc292fa3",
   "metadata": {},
   "outputs": [
    {
     "name": "stdout",
     "output_type": "stream",
     "text": [
      "Counter() Counter({2: 4, 3: 3, 1: 2, 4: 1, 7: 1}) Counter({'b': 3, 'a': 1}) Counter({'a': 13, 'c': 4, 'b': 2})\n",
      "0\n",
      "Counter({3: 3, 1: 2, 4: 1, 7: 1, 2: 0})\n",
      "Counter({3: 3, 1: 2, 4: 1, 7: 1})\n",
      "[1, 1, 3, 3, 3, 4, 7]\n",
      "[(3, 3), (1, 2)]\n",
      "7\n",
      "Counter({'d': 3, 'a': 2, 's': 1, 'i': 1, 'r': 1, 'h': 1})\n",
      "Counter({3: 3, 'd': 3, 1: 2, 'a': 2, 4: 1, 7: 1, 's': 1, 'i': 1, 'r': 1, 'h': 1})\n",
      "Counter({'s': 0, 'i': 0, 'd': 0, 'a': 0, 'r': 0, 'h': 0, 4: -1, 7: -1, 1: -2, 3: -3})\n",
      "Counter()\n",
      "Counter()\n",
      "Counter({'s': 0, 'i': 0, 'd': 0, 'a': 0, 'r': 0, 'h': 0, 4: -1, 7: -1, 1: -2, 3: -3})\n",
      "Counter({3: 3, 1: 2, 4: 1, 7: 1})\n"
     ]
    }
   ],
   "source": [
    "from collections import Counter\n",
    "a=[1,2,3,4,1,2,3,3,2,2,7]\n",
    "b='siddardha'\n",
    "c={'a':1,'b':3}\n",
    "\n",
    "# creating an counter\n",
    "c1=Counter() # empty counter\n",
    "c2=Counter(a) # iterable\n",
    "c3=Counter(c) # dictionary\n",
    "c4=Counter(a=13,b=2,c=4) # keywords\n",
    "print(c1,c2,c3,c4)\n",
    "\n",
    "print(c2[10]) # will not raise keyError, returns 0.\n",
    "c2[2]=0 # will not delete 2.\n",
    "print(c2)\n",
    "del c2[2]\n",
    "print(c2)\n",
    "\n",
    "#methods\n",
    "print(list(c2.elements()))\n",
    "print(c2.most_common(2))\n",
    "print(c2.total())\n",
    "c1.update(b)\n",
    "print(c1)\n",
    "c2.update(b)\n",
    "print(c2)\n",
    "c1.subtract(c2)\n",
    "print(c1)\n",
    "c2.clear()\n",
    "print(c2)\n",
    "\n",
    "# shortcuts\n",
    "print(+c1)\n",
    "print(c1)\n",
    "print(-c1)\n"
   ]
  },
  {
   "cell_type": "markdown",
   "id": "b6ac2d45",
   "metadata": {},
   "source": [
    "## OrderedDict\n",
    "A Dictionary with order is called OrderedDict. \n",
    "\n",
    "implemented with doublely linked list structure.\n",
    "\n",
    "in python 3.7, normal dictionary too have ordering.\n",
    "\n",
    "some of the methods that are used are:-\n",
    "1. popitem(last=True):- returns and removes key-value pair. if last=True, removes last, else removes first.\n",
    "2. move_to_end(key,last=True):- moves existing key to end. raises keyError, if no key. if last=True,moves last and vice-versa\n",
    " \n",
    " we can use dictionary methods like:-\n",
    " keys(),values(),items(),get(),pop()."
   ]
  },
  {
   "cell_type": "code",
   "execution_count": 13,
   "id": "7028473b",
   "metadata": {},
   "outputs": [
    {
     "name": "stdout",
     "output_type": "stream",
     "text": [
      "OrderedDict([('a', 1), ('b', 2), ('c', 3), ('d', 4)])\n",
      "('d', 4)\n",
      "OrderedDict([('a', 1), ('b', 2), ('c', 3)])\n",
      "('a', 1)\n",
      "OrderedDict([('b', 2), ('c', 3)])\n",
      "OrderedDict([('b', 2), ('c', 3), ('a', 1)])\n",
      "OrderedDict([('a', 1), ('b', 2), ('c', 3)])\n"
     ]
    }
   ],
   "source": [
    "from collections import OrderedDict\n",
    "d=OrderedDict()\n",
    "d['a']=1\n",
    "d['b']=2\n",
    "d['c']=3\n",
    "d['d']=4\n",
    "print(d)\n",
    "\n",
    "#methods\n",
    "print(d.popitem())\n",
    "print(d)\n",
    "print(d.popitem(last=False))\n",
    "print(d)\n",
    "d['a']=1\n",
    "print(d)\n",
    "d.move_to_end('a',last=False)\n",
    "print(d)"
   ]
  },
  {
   "cell_type": "markdown",
   "id": "124a6276",
   "metadata": {},
   "source": [
    "## 3. defaultdict\n",
    "same as dictionary never raises an keyError.\n",
    "\n",
    "d=defaultdict(default_factory):- default_factory is None, by default. it should be replaced with other parameter to avoid keyError."
   ]
  },
  {
   "cell_type": "code",
   "execution_count": 22,
   "id": "1a586a6a",
   "metadata": {},
   "outputs": [
    {
     "name": "stdout",
     "output_type": "stream",
     "text": [
      "[]\n",
      "0\n",
      "0\n",
      "not present\n"
     ]
    },
    {
     "ename": "KeyError",
     "evalue": "'a'",
     "output_type": "error",
     "traceback": [
      "\u001b[1;31m---------------------------------------------------------------------------\u001b[0m",
      "\u001b[1;31mKeyError\u001b[0m                                  Traceback (most recent call last)",
      "Cell \u001b[1;32mIn[22], line 13\u001b[0m\n\u001b[0;32m     11\u001b[0m \u001b[38;5;28mprint\u001b[39m(d3[\u001b[38;5;124m'\u001b[39m\u001b[38;5;124ma\u001b[39m\u001b[38;5;124m'\u001b[39m])\n\u001b[0;32m     12\u001b[0m d4\u001b[38;5;241m=\u001b[39mdefaultdict()\n\u001b[1;32m---> 13\u001b[0m \u001b[38;5;28mprint\u001b[39m(\u001b[43md4\u001b[49m\u001b[43m[\u001b[49m\u001b[38;5;124;43m'\u001b[39;49m\u001b[38;5;124;43ma\u001b[39;49m\u001b[38;5;124;43m'\u001b[39;49m\u001b[43m]\u001b[49m)\n",
      "\u001b[1;31mKeyError\u001b[0m: 'a'"
     ]
    }
   ],
   "source": [
    "from collections import defaultdict\n",
    "d=defaultdict(list)\n",
    "d1=defaultdict(int)\n",
    "d2=defaultdict(str)\n",
    "print(d[1])\n",
    "print(d1[0])\n",
    "print(len(d2[0]))\n",
    "def hai():\n",
    "    return 'not present'\n",
    "d3=defaultdict(hai)\n",
    "print(d3['a'])\n",
    "d4=defaultdict()\n",
    "print(d4['a'])"
   ]
  },
  {
   "cell_type": "markdown",
   "id": "de010b3e",
   "metadata": {},
   "source": [
    "## 4. ChainMap\n",
    " used to take multiple mapping and make them as one unit.\n",
    " \n",
    " some of the methods used in them are :-\n",
    " 1. maps() :- used to return all the dictionaries in the chain.\n",
    " 2. new_child():- used to insert the new dictionary in front of the chain.\n",
    " 3. reversed():- used to reverse the whole chain\n",
    "we can use the dictionary functions too. like values(),keys()."
   ]
  },
  {
   "cell_type": "code",
   "execution_count": 28,
   "id": "1db5eb53",
   "metadata": {},
   "outputs": [
    {
     "name": "stdout",
     "output_type": "stream",
     "text": [
      "ChainMap({'a': 3, 'b': 4, 'c': 8}, {'d': 9, 'e': 11})\n",
      "ChainMap({'f': 23, 'g': 21}, {'a': 3, 'b': 4, 'c': 8}, {'d': 9, 'e': 11})\n",
      "[{'d': 9, 'e': 11}, {'a': 3, 'b': 4, 'c': 8}, {'f': 23, 'g': 21}]\n"
     ]
    }
   ],
   "source": [
    "from collections import ChainMap\n",
    "a={'a':3,'b':4,'c':8}\n",
    "b={'d':9,'e':11}\n",
    "c={'f':23,'g':21}\n",
    "d=ChainMap(a,b)\n",
    "print(d)\n",
    "d=d.new_child(c)\n",
    "print(d)\n",
    "d.maps=reversed(d.maps)\n",
    "print(list(d.maps))"
   ]
  },
  {
   "cell_type": "markdown",
   "id": "aec9796a",
   "metadata": {},
   "source": [
    "## 5. namedtuple\n",
    "\n",
    " A container which resembles a class, can have names to the values just as dictionary.\n",
    " \n",
    " Syntax:-\n",
    " collections.namedtuple(typename,field_names,rename=False,defaults=None)\n",
    " \n",
    " some of the functions are:-\n",
    " 1. _make(iterable):- makes a new instance with iterable data.\n",
    " 2. _asdict():- returns a dictionary with names as keys.\n",
    " 3. _replace(keyword=value):- returns a new instance with updated value.\n",
    " 4. _fields:- returns a tuple of field names\n",
    " 5. _field_defaults:- gives information about defaults\n",
    " \n",
    " short cuts:-\n",
    " used ** < dictionary vairable> to convert it into Namedtuple"
   ]
  },
  {
   "cell_type": "code",
   "execution_count": 37,
   "id": "af8d15fb",
   "metadata": {},
   "outputs": [
    {
     "name": "stdout",
     "output_type": "stream",
     "text": [
      "values(first=2, second=4, third=6)\n",
      "values(first=10, second=2, third=34)\n",
      "values(first=10, second=2, third=34)\n",
      "{'first': 10, 'second': 2, 'third': 34}\n",
      "values(first=23, second=2, third=34)\n",
      "('first', 'second', 'third')\n",
      "{'pong': 2}\n",
      "values(first=2, second=3, third=4)\n"
     ]
    }
   ],
   "source": [
    "from collections import namedtuple\n",
    "a={'first':2,\"second\":3,'third':4}\n",
    "ban=namedtuple(\"values\",['first','second','third'])\n",
    "print(ban(2,4,6))\n",
    "b=[10,2,34]\n",
    "print(ban._make(b))\n",
    "c=ban._make(b)\n",
    "print(c)\n",
    "print(c._asdict())\n",
    "print(c._replace(first=23))\n",
    "print(c._fields)\n",
    "can=namedtuple(\"van\",['pin','pong'],defaults=[2])\n",
    "print(can._field_defaults)\n",
    "z=ban(**a)\n",
    "print(z)"
   ]
  },
  {
   "cell_type": "markdown",
   "id": "7d6242bc",
   "metadata": {},
   "source": [
    "## 6. deque\n",
    "container like doulble ended queue. time complexity will be only O(1).\n",
    "\n",
    "some of the operations are:-\n",
    "1. appendleft():- insertion on left side\n",
    "2. popleft():- removal at left side\n",
    "3. rotate(int):- used to rotate the queue. if positive int, rotate anti clock. else rotate clockwise. \n",
    " uses all the list operations"
   ]
  },
  {
   "cell_type": "code",
   "execution_count": 40,
   "id": "e9aa0ea0",
   "metadata": {},
   "outputs": [
    {
     "name": "stdout",
     "output_type": "stream",
     "text": [
      "s\n",
      "deque(['y', 'd', 'd', 'e', 'r', 'u', 'p', 'a', 'n', 'n', 'A', 'i', 'd', 'd', 'a', 'r', 'd', 'h', 'a'])\n",
      "deque(['a', 'y', 'd', 'd', 'e', 'r', 'u', 'p', 'a', 'n', 'n', 'A', 'i', 'd', 'd', 'a', 'r', 'd', 'h'])\n",
      "deque(['y', 'd', 'd', 'e', 'r', 'u', 'p', 'a', 'n', 'n', 'A', 'i', 'd', 'd', 'a', 'r', 'd', 'h', 'a'])\n"
     ]
    }
   ],
   "source": [
    "from collections import deque\n",
    "d=deque(\"siddardha\")\n",
    "print(d.popleft())\n",
    "d.extendleft(\"Annapureddy\")\n",
    "print(d)\n",
    "d.rotate(1)\n",
    "print(d)\n",
    "d.rotate(-1)\n",
    "print(d)"
   ]
  },
  {
   "cell_type": "markdown",
   "id": "95f19c38",
   "metadata": {},
   "source": [
    "##  7,8,9. UserDict, UserList, UserString\n",
    " these are container acts like Dictionary,List and string with user defined functionalities.\n",
    " we need to inherit this classes and write our own functionalities for existing methods or new methods.\n",
    " \n",
    " class myclass (UserDict):\n",
    " \n",
    " class A(UserList):\n",
    " \n",
    " class B(UserString):"
   ]
  },
  {
   "cell_type": "code",
   "execution_count": 42,
   "id": "b5763f0f",
   "metadata": {},
   "outputs": [
    {
     "ename": "RuntimeError",
     "evalue": "pop not allowed",
     "output_type": "error",
     "traceback": [
      "\u001b[1;31m---------------------------------------------------------------------------\u001b[0m",
      "\u001b[1;31mRuntimeError\u001b[0m                              Traceback (most recent call last)",
      "Cell \u001b[1;32mIn[42], line 6\u001b[0m\n\u001b[0;32m      4\u001b[0m         \u001b[38;5;28;01mraise\u001b[39;00m \u001b[38;5;167;01mRuntimeError\u001b[39;00m(\u001b[38;5;124m\"\u001b[39m\u001b[38;5;124mpop not allowed\u001b[39m\u001b[38;5;124m\"\u001b[39m)\n\u001b[0;32m      5\u001b[0m a\u001b[38;5;241m=\u001b[39mMyDict({\u001b[38;5;124m'\u001b[39m\u001b[38;5;124ma\u001b[39m\u001b[38;5;124m'\u001b[39m:\u001b[38;5;241m2\u001b[39m})\n\u001b[1;32m----> 6\u001b[0m \u001b[43ma\u001b[49m\u001b[38;5;241;43m.\u001b[39;49m\u001b[43mpop\u001b[49m\u001b[43m(\u001b[49m\u001b[43m)\u001b[49m\n",
      "Cell \u001b[1;32mIn[42], line 4\u001b[0m, in \u001b[0;36mMyDict.pop\u001b[1;34m(self)\u001b[0m\n\u001b[0;32m      3\u001b[0m \u001b[38;5;28;01mdef\u001b[39;00m \u001b[38;5;21mpop\u001b[39m(\u001b[38;5;28mself\u001b[39m):\n\u001b[1;32m----> 4\u001b[0m     \u001b[38;5;28;01mraise\u001b[39;00m \u001b[38;5;167;01mRuntimeError\u001b[39;00m(\u001b[38;5;124m\"\u001b[39m\u001b[38;5;124mpop not allowed\u001b[39m\u001b[38;5;124m\"\u001b[39m)\n",
      "\u001b[1;31mRuntimeError\u001b[0m: pop not allowed"
     ]
    }
   ],
   "source": [
    "from collections import UserDict,UserList,UserString\n",
    "class MyDict(UserDict):\n",
    "    def pop(self):\n",
    "        raise RuntimeError(\"pop not allowed\")\n",
    "a=MyDict({'a':2})\n",
    "a.pop()"
   ]
  },
  {
   "cell_type": "code",
   "execution_count": null,
   "id": "1231d328",
   "metadata": {},
   "outputs": [],
   "source": []
  }
 ],
 "metadata": {
  "kernelspec": {
   "display_name": "Python 3 (ipykernel)",
   "language": "python",
   "name": "python3"
  },
  "language_info": {
   "codemirror_mode": {
    "name": "ipython",
    "version": 3
   },
   "file_extension": ".py",
   "mimetype": "text/x-python",
   "name": "python",
   "nbconvert_exporter": "python",
   "pygments_lexer": "ipython3",
   "version": "3.10.7"
  }
 },
 "nbformat": 4,
 "nbformat_minor": 5
}
