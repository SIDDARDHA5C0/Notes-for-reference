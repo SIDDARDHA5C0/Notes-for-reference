{
 "cells": [
  {
   "cell_type": "markdown",
   "id": "bea71842",
   "metadata": {},
   "source": [
    "1. Count the digits in an number\n",
    "2. Reversing an Number\n",
    "3. Check if a number is Palindrome\n",
    "4. Find gcd of 2 numbers\n",
    "5. check if armstrong number or not\n",
    "6. All the divisiors of given number\n",
    "7. check prime or not"
   ]
  },
  {
   "cell_type": "markdown",
   "id": "98c0c6ff",
   "metadata": {},
   "source": [
    "## 1. count the digits in an number"
   ]
  },
  {
   "cell_type": "code",
   "execution_count": 2,
   "id": "35660c1c",
   "metadata": {},
   "outputs": [
    {
     "name": "stdout",
     "output_type": "stream",
     "text": [
      "2345\n",
      "4\n"
     ]
    }
   ],
   "source": [
    "n: int =int(input())                                          # [brute force] O(n)\n",
    "count:int=0\n",
    "while n>0:\n",
    "    n=n//10\n",
    "    count+=1\n",
    "print(count)"
   ]
  },
  {
   "cell_type": "code",
   "execution_count": 1,
   "id": "8d654f95",
   "metadata": {
    "scrolled": true
   },
   "outputs": [
    {
     "name": "stdout",
     "output_type": "stream",
     "text": [
      "2345\n",
      "4\n"
     ]
    }
   ],
   "source": [
    "n:int=int(input())                                            # [better] O(1)\n",
    "print(len(str(n)))"
   ]
  },
  {
   "cell_type": "code",
   "execution_count": 3,
   "id": "df236e53",
   "metadata": {},
   "outputs": [
    {
     "name": "stdout",
     "output_type": "stream",
     "text": [
      "2345\n",
      "4\n",
      "4\n"
     ]
    }
   ],
   "source": [
    "import math                                                   # [best] O(1)\n",
    "n:int= int(input())\n",
    "print(math.floor(math.log10(n))+1)\n",
    "#(or)\n",
    "print(math.ceil(math.log10(n)))"
   ]
  },
  {
   "cell_type": "markdown",
   "id": "d868cb5f",
   "metadata": {},
   "source": [
    "## 2. Reversing an Number"
   ]
  },
  {
   "cell_type": "code",
   "execution_count": 9,
   "id": "c7699f7c",
   "metadata": {},
   "outputs": [
    {
     "name": "stdout",
     "output_type": "stream",
     "text": [
      "12345678910\n",
      "01987654321\n",
      "CPU times: total: 31.2 ms\n",
      "Wall time: 8.31 s\n"
     ]
    }
   ],
   "source": [
    "%%time\n",
    "n:int=int(input())                                                # [brute force] O(n)\n",
    "s=\"\"\n",
    "while n>0:\n",
    "    s+=str(n%10)\n",
    "    n//=10\n",
    "print(s)"
   ]
  },
  {
   "cell_type": "code",
   "execution_count": 12,
   "id": "379ab9c0",
   "metadata": {},
   "outputs": [
    {
     "name": "stdout",
     "output_type": "stream",
     "text": [
      "2345\n",
      "5432\n",
      "CPU times: total: 15.6 ms\n",
      "Wall time: 3.53 s\n"
     ]
    }
   ],
   "source": [
    "%%time\n",
    "n:int=int(input())                                                # [better] O(n)\n",
    "num:int=0\n",
    "while n>0:\n",
    "    #digit=n%10\n",
    "    #num=num*10+digit\n",
    "    num=num*10+n%10\n",
    "    n//=10 #n=n//10\n",
    "print(num)"
   ]
  },
  {
   "cell_type": "code",
   "execution_count": 11,
   "id": "93a9b515",
   "metadata": {},
   "outputs": [
    {
     "name": "stdout",
     "output_type": "stream",
     "text": [
      "12345678910\n",
      "01987654321\n",
      "01987654321\n",
      "CPU times: total: 0 ns\n",
      "Wall time: 7.26 s\n"
     ]
    }
   ],
   "source": [
    "%%time\n",
    "n:int=int(input())                                               # [best] O(1)\n",
    "print(str(n)[::-1])\n",
    "#(or)\n",
    "b=(str(n))[::-1]\n",
    "print(b)"
   ]
  },
  {
   "cell_type": "markdown",
   "id": "2f2412bd",
   "metadata": {},
   "source": [
    "## 3. Check if a number is palindrome"
   ]
  },
  {
   "cell_type": "code",
   "execution_count": 20,
   "id": "4d1e916f",
   "metadata": {},
   "outputs": [
    {
     "name": "stdout",
     "output_type": "stream",
     "text": [
      "23455432\n",
      "palindrome\n",
      "CPU times: total: 0 ns\n",
      "Wall time: 5.06 s\n"
     ]
    }
   ],
   "source": [
    "%%time\n",
    "n:int=int(input())                                                 # [brute-force]  O(n)\n",
    "num1:int=n\n",
    "num:int=0\n",
    "while n>0:\n",
    "    num=num*10+n%10\n",
    "    n//=10\n",
    "if num==num1:\n",
    "    print(\"palindrome\")\n",
    "else:\n",
    "    print(\"not a palindrome\")"
   ]
  },
  {
   "cell_type": "code",
   "execution_count": 24,
   "id": "2e3cd842",
   "metadata": {},
   "outputs": [
    {
     "name": "stdout",
     "output_type": "stream",
     "text": [
      "23455432\n",
      "palindrome\n",
      "CPU times: total: 0 ns\n",
      "Wall time: 3.56 s\n"
     ]
    }
   ],
   "source": [
    "%%time\n",
    "n:int=int(input())                                                # [better]  O(n)\n",
    "d:int=0\n",
    "n=str(n)\n",
    "for i in range(len(n)//2):\n",
    "    if n[i]!=n[len(n)-1-i]:\n",
    "        d+=1\n",
    "if d==0:\n",
    "    print(\"palindrome\")\n",
    "else:\n",
    "    print(\"not a palindrome\")       "
   ]
  },
  {
   "cell_type": "code",
   "execution_count": 22,
   "id": "a253403d",
   "metadata": {},
   "outputs": [
    {
     "name": "stdout",
     "output_type": "stream",
     "text": [
      "23455432\n",
      "palindrome\n",
      "CPU times: total: 0 ns\n",
      "Wall time: 3.89 s\n"
     ]
    }
   ],
   "source": [
    "%%time\n",
    "n:int=int(input())                                                 # [best] O(1)\n",
    "if str(n)==str(n)[::-1]:\n",
    "    print(\"palindrome\")\n",
    "else:\n",
    "    print(\"not a palindrome\")"
   ]
  },
  {
   "cell_type": "markdown",
   "id": "5db93f83",
   "metadata": {},
   "source": [
    "## 4. Find gcd of 2 numbers"
   ]
  },
  {
   "cell_type": "code",
   "execution_count": 10,
   "id": "f808a762",
   "metadata": {},
   "outputs": [
    {
     "name": "stdout",
     "output_type": "stream",
     "text": [
      "345 23456\n",
      "1\n",
      "CPU times: total: 15.6 ms\n",
      "Wall time: 6.81 s\n"
     ]
    }
   ],
   "source": [
    "%%time\n",
    "from math import gcd                                                # [python approach] O(n)\n",
    "a,b=map(int,input().split())\n",
    "print(gcd(a,b))"
   ]
  },
  {
   "cell_type": "code",
   "execution_count": 11,
   "id": "b79a564b",
   "metadata": {},
   "outputs": [
    {
     "name": "stdout",
     "output_type": "stream",
     "text": [
      "345 23456\n",
      "1\n",
      "CPU times: total: 15.6 ms\n",
      "Wall time: 6.2 s\n"
     ]
    }
   ],
   "source": [
    "%%time\n",
    "a,b=map(int,input().split())                                         # [Brute-force]  O(n)                 \n",
    "if b>a:\n",
    "    while b-((b//a)*a) !=0:\n",
    "        d=b-((b//a)*a)\n",
    "        b=a\n",
    "        a=d\n",
    "        #print(f\"{d,b,a}\")\n",
    "    print(a)\n",
    "    \n",
    "else:\n",
    "    while a-((a//b)*b)!=0:\n",
    "        d=a-((a//b)*b)\n",
    "        a=b\n",
    "        b=d\n",
    "    print(b)"
   ]
  },
  {
   "cell_type": "code",
   "execution_count": 12,
   "id": "ff39a960",
   "metadata": {},
   "outputs": [
    {
     "name": "stdout",
     "output_type": "stream",
     "text": [
      "345 23456\n",
      "1\n",
      "CPU times: total: 0 ns\n",
      "Wall time: 6.84 s\n"
     ]
    }
   ],
   "source": [
    "%%time\n",
    "a,b=map(int,input().split())                                        # [better] O(n)\n",
    "for i in range(min(a,b),0,-1):\n",
    "    if a%i==0 and b%i==0:\n",
    "        print(i)\n",
    "        break\n"
   ]
  },
  {
   "cell_type": "code",
   "execution_count": 14,
   "id": "b451d92c",
   "metadata": {},
   "outputs": [
    {
     "name": "stdout",
     "output_type": "stream",
     "text": [
      "345 23456\n",
      "1\n",
      "CPU times: total: 0 ns\n",
      "Wall time: 5.4 s\n"
     ]
    }
   ],
   "source": [
    "%%time\n",
    "def gcd_cal(a,b):                                                    # [best] 0(logn)\n",
    "    if b==0:\n",
    "        return a\n",
    "    return gcd_cal(b,a%b)\n",
    "a,b=map(int,input().split())\n",
    "print(gcd_cal(max(a,b),min(a,b)))"
   ]
  },
  {
   "cell_type": "markdown",
   "id": "3755c0f3",
   "metadata": {},
   "source": [
    "## 6. Check Armstrong number or not."
   ]
  },
  {
   "cell_type": "code",
   "execution_count": 30,
   "id": "972edbf6",
   "metadata": {},
   "outputs": [
    {
     "name": "stdout",
     "output_type": "stream",
     "text": [
      "153\n",
      "Armstrong number\n",
      "CPU times: total: 0 ns\n",
      "Wall time: 1.23 s\n"
     ]
    }
   ],
   "source": [
    "%%time\n",
    "n=int(input())\n",
    "a=n\n",
    "num=0\n",
    "x=len(str(n))\n",
    "while n>0:\n",
    "    d=n%10\n",
    "    num+=d**x\n",
    "    n//=10\n",
    "if a==num:\n",
    "    print(\"Armstrong number\")\n",
    "else:\n",
    "    print(\"not an Armstrong number\")"
   ]
  },
  {
   "cell_type": "markdown",
   "id": "40dba745",
   "metadata": {},
   "source": [
    "## 6. All the divisors of given number"
   ]
  },
  {
   "cell_type": "code",
   "execution_count": 33,
   "id": "758122a7",
   "metadata": {},
   "outputs": [
    {
     "name": "stdout",
     "output_type": "stream",
     "text": [
      "17\n",
      "[1, 17]\n",
      "CPU times: total: 0 ns\n",
      "Wall time: 2.71 s\n"
     ]
    }
   ],
   "source": [
    "%%time\n",
    "n=int(input())                                                         # [Brute-force]  O(n)\n",
    "a=[]\n",
    "for i in range(1,n+1):\n",
    "    if n%i==0:\n",
    "        a.append(i)\n",
    "print(a)"
   ]
  },
  {
   "cell_type": "code",
   "execution_count": 39,
   "id": "74575dc6",
   "metadata": {},
   "outputs": [
    {
     "name": "stdout",
     "output_type": "stream",
     "text": [
      "6\n",
      "[1, 6, 2, 3]\n",
      "CPU times: total: 0 ns\n",
      "Wall time: 2.81 s\n"
     ]
    }
   ],
   "source": [
    "%%time\n",
    "n=int(input())                                                           # [Best] O(sqrt(n))\n",
    "a=[]\n",
    "for i in range(1,int(n**0.5)+1):\n",
    "    if n%i==0:\n",
    "        a.append(i)\n",
    "        if n//i!=i:\n",
    "            a.append(n//i)\n",
    "print(a)\n",
    "            "
   ]
  },
  {
   "cell_type": "markdown",
   "id": "b5810c64",
   "metadata": {},
   "source": [
    "## 7. Check prime or not"
   ]
  },
  {
   "cell_type": "code",
   "execution_count": 43,
   "id": "606ab58d",
   "metadata": {},
   "outputs": [
    {
     "name": "stdout",
     "output_type": "stream",
     "text": [
      "23434\n",
      "not prime\n",
      "CPU times: total: 0 ns\n",
      "Wall time: 3.66 s\n"
     ]
    }
   ],
   "source": [
    "%%time\n",
    "n=int(input())                                                          # [Brute-force] O(n)\n",
    "d=0\n",
    "for i in range(2,n):\n",
    "    if n%i==0:\n",
    "        d=1\n",
    "        break\n",
    "print('prime') if d==0 else print('not prime')\n",
    "    "
   ]
  },
  {
   "cell_type": "code",
   "execution_count": 49,
   "id": "98d51ae1",
   "metadata": {},
   "outputs": [
    {
     "name": "stdout",
     "output_type": "stream",
     "text": [
      "17\n",
      "prime\n",
      "CPU times: total: 0 ns\n",
      "Wall time: 2.19 s\n"
     ]
    }
   ],
   "source": [
    "%%time\n",
    "n=int(input())                                                        # [Best] O(sqrt(n))\n",
    "d=0\n",
    "for i in range(2,int(n**0.5)):\n",
    "    if n%i==0:\n",
    "        d=1\n",
    "        break\n",
    "print('prime') if d==0 else print('not prime')"
   ]
  },
  {
   "cell_type": "code",
   "execution_count": null,
   "id": "d3cd5c59",
   "metadata": {},
   "outputs": [],
   "source": []
  }
 ],
 "metadata": {
  "kernelspec": {
   "display_name": "Python 3 (ipykernel)",
   "language": "python",
   "name": "python3"
  },
  "language_info": {
   "codemirror_mode": {
    "name": "ipython",
    "version": 3
   },
   "file_extension": ".py",
   "mimetype": "text/x-python",
   "name": "python",
   "nbconvert_exporter": "python",
   "pygments_lexer": "ipython3",
   "version": "3.10.7"
  }
 },
 "nbformat": 4,
 "nbformat_minor": 5
}
